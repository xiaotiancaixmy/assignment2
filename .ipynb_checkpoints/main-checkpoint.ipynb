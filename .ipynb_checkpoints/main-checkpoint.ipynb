{
 "cells": [
  {
   "cell_type": "code",
   "execution_count": null,
   "id": "ffd487e6-1c92-447a-b956-f8b149c94b0a",
   "metadata": {},
   "outputs": [],
   "source": [
    "import os # for file path\n",
    "import csv # for reading csv file\n",
    "\n",
    "current_dir = os.getcwd() # get current working dir\n",
    "print(current_dir)\n",
    "\n",
    "\n",
    "path_budget_data = os.path.join(current_dir, \"budget_data.csv\") # get the csv file path\n",
    "print(path_budget_data)\n",
    "\n",
    "\n",
    "def read_csv_file(file_path):\n",
    "    \"\"\"\n",
    "    Reads a CSV file and returns the data as a list of dictionaries.\n",
    "    Each dictionary represents a row, with column names as keys and corresponding values.\n",
    "    Args:\n",
    "        file_path (str): The path to the CSV file.\n",
    "    Returns:\n",
    "        A list of dictionaries representing the CSV data.\n",
    "    \"\"\"\n",
    "    data = []\n",
    "    with open(file_path, 'r') as file:\n",
    "        reader = csv.DictReader(file)\n",
    "        for row in reader:\n",
    "            data.append(dict(row))\n",
    "    return data\n",
    "\n",
    "data = read_csv_file(path_budget_data)\n",
    "#print(data)\n"
   ]
  },
  {
   "cell_type": "code",
   "execution_count": 67,
   "id": "b876d610-562f-4533-b4f8-1834d62a7800",
   "metadata": {},
   "outputs": [
    {
     "name": "stdout",
     "output_type": "stream",
     "text": [
      "Financial Analysis\n",
      "-------------------------\n",
      "Total Months: 86\n",
      "Total: $38382578\n",
      "Average Change: $-2315.12\n",
      "Greatest Increase in Profits: Jan-2012 ($1926159)\n",
      "Greatest Decrease in Losses: Aug-2013 ($-2196167)\n"
     ]
    }
   ],
   "source": [
    "total_months = len(data)\n",
    "net_total = 0\n",
    "changes = []\n",
    "dates = []\n",
    "\n",
    "for row in data:\n",
    "    date = row['Date']\n",
    "    profit_loss = int(row['Profit/Losses'])\n",
    "#Cal Net total\n",
    "    net_total = sum(int(row['Profit/Losses']) for row in data)\n",
    "#Append Change\n",
    "    dates.append(date)\n",
    "    if len(dates) > 1:\n",
    "        change = profit_loss - previous_profit_loss\n",
    "        changes.append(change)\n",
    "        previous_profit_loss = profit_loss\n",
    "        greatest_increase = changes[0]\n",
    "        greatest_increase_date = dates[0]\n",
    "        greatest_decrease = changes[0]\n",
    "        greatest_decrease_date = dates[0]\n",
    "#loop for defining changes\n",
    "for i in range(1, len(changes)):\n",
    "    if changes[i] > greatest_increase:\n",
    "        greatest_increase = changes[i]\n",
    "        greatest_increase_date = dates[i]\n",
    "    if changes[i] < greatest_decrease:\n",
    "        greatest_decrease = changes[i]\n",
    "        greatest_decrease_date = dates[i]\n",
    "\n",
    "# Calculate the average change\n",
    "average_change = sum(changes) / len(changes)\n",
    "\n",
    "# Print the results\n",
    "print(\"Financial Analysis\")\n",
    "print(\"-------------------------\")\n",
    "print(f\"Total Months: {total_months}\")\n",
    "print(f\"Total: ${net_total}\")\n",
    "print(f\"Average Change: ${average_change:.2f}\")\n",
    "print(f\"Greatest Increase in Profits: {greatest_increase_date} (${greatest_increase})\")\n",
    "print(f\"Greatest Decrease in Losses: {greatest_decrease_date} (${greatest_decrease})\")"
   ]
  },
  {
   "cell_type": "code",
   "execution_count": null,
   "id": "c1f5bc23-df2b-4871-aa7b-8a525b476d28",
   "metadata": {},
   "outputs": [],
   "source": []
  }
 ],
 "metadata": {
  "kernelspec": {
   "display_name": "Python 3 (ipykernel)",
   "language": "python",
   "name": "python3"
  },
  "language_info": {
   "codemirror_mode": {
    "name": "ipython",
    "version": 3
   },
   "file_extension": ".py",
   "mimetype": "text/x-python",
   "name": "python",
   "nbconvert_exporter": "python",
   "pygments_lexer": "ipython3",
   "version": "3.11.3"
  }
 },
 "nbformat": 4,
 "nbformat_minor": 5
}
